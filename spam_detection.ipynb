{
 "cells": [
  {
   "cell_type": "code",
   "execution_count": null,
   "id": "6741af73",
   "metadata": {},
   "outputs": [],
   "source": [
    "#first lets fetch the data\n",
    "#we proceed by Downloading examples of spam and ham from Apache SpamAssassin’s public dataset,https://spamassassin.apache.org/old/publiccorpus/ below:\n",
    "import os\n",
    "import urllib.request as ul\n",
    "import tarfile\n",
    "DOWNLOAD = \"https://spamassassin.apache.org/old/publiccorpus/\"\n",
    "SPAM = DOWNLOAD+\"20030228_spam.tar.bz2\"\n",
    "HAM = DOWNLOAD+\"20030228_easy_ham.tar.bz2\"\n",
    "SPAM_PATH = os.path.join(\"dataset\",\"spam\")\n",
    "HAM_PATH = os.path.join(\"dataset\",\"ham\")\n",
    "\n",
    "def retrieve_dataset(spam=SPAM,ham=HAM,spam_path=SPAM_PATH,ham_path=HAM_PATH):\n",
    "    for path in ((spam_path,ham_path)):\n",
    "        if not os.path.isfile(path):\n",
    "            os.makedirs(path)\n",
    "    for filename,url,extractpath in [(\"ham.tar.bz2\",ham,ham_path),(\"spam.tar.bz2\",spam,spam_path)]:\n",
    "        archive_path = os.path.join(\"dataset\",filename)\n",
    "        if not os.path.isfile(archive_path):\n",
    "            ul.urlretrieve(url,archive_path)\n",
    "        with tarfile.open(archive_path) as tar_bz2_file:\n",
    "            tar_bz2_file.extractall(path=extractpath)"
   ]
  },
  {
   "cell_type": "code",
   "execution_count": 84,
   "id": "07b28340",
   "metadata": {},
   "outputs": [
    {
     "ename": "FileExistsError",
     "evalue": "[WinError 183] Cannot create a file when that file already exists: 'dataset\\\\spam'",
     "output_type": "error",
     "traceback": [
      "\u001b[31m---------------------------------------------------------------------------\u001b[39m",
      "\u001b[31mFileExistsError\u001b[39m                           Traceback (most recent call last)",
      "\u001b[36mCell\u001b[39m\u001b[36m \u001b[39m\u001b[32mIn[84]\u001b[39m\u001b[32m, line 1\u001b[39m\n\u001b[32m----> \u001b[39m\u001b[32m1\u001b[39m \u001b[43mretrieve_dataset\u001b[49m\u001b[43m(\u001b[49m\u001b[43m)\u001b[49m\n",
      "\u001b[36mCell\u001b[39m\u001b[36m \u001b[39m\u001b[32mIn[83]\u001b[39m\u001b[32m, line 13\u001b[39m, in \u001b[36mretrieve_dataset\u001b[39m\u001b[34m(spam, ham, spam_path, ham_path)\u001b[39m\n\u001b[32m     11\u001b[39m \u001b[38;5;28;01mfor\u001b[39;00m path \u001b[38;5;129;01min\u001b[39;00m ((spam_path,ham_path)):\n\u001b[32m     12\u001b[39m     \u001b[38;5;28;01mif\u001b[39;00m \u001b[38;5;129;01mnot\u001b[39;00m os.path.isfile(path):\n\u001b[32m---> \u001b[39m\u001b[32m13\u001b[39m         \u001b[43mos\u001b[49m\u001b[43m.\u001b[49m\u001b[43mmakedirs\u001b[49m\u001b[43m(\u001b[49m\u001b[43mpath\u001b[49m\u001b[43m)\u001b[49m\n\u001b[32m     14\u001b[39m \u001b[38;5;28;01mfor\u001b[39;00m filename,url,extractpath \u001b[38;5;129;01min\u001b[39;00m [(\u001b[33m\"\u001b[39m\u001b[33mham.tar.bz2\u001b[39m\u001b[33m\"\u001b[39m,ham,ham_path),(\u001b[33m\"\u001b[39m\u001b[33mspam.tar.bz2\u001b[39m\u001b[33m\"\u001b[39m,spam,spam_path)]:\n\u001b[32m     15\u001b[39m     archive_path = os.path.join(\u001b[33m\"\u001b[39m\u001b[33mdataset\u001b[39m\u001b[33m\"\u001b[39m,filename)\n",
      "\u001b[36mFile \u001b[39m\u001b[32m<frozen os>:225\u001b[39m, in \u001b[36mmakedirs\u001b[39m\u001b[34m(name, mode, exist_ok)\u001b[39m\n",
      "\u001b[31mFileExistsError\u001b[39m: [WinError 183] Cannot create a file when that file already exists: 'dataset\\\\spam'"
     ]
    }
   ],
   "source": [
    "retrieve_dataset()"
   ]
  },
  {
   "cell_type": "code",
   "execution_count": null,
   "id": "6ef5e465",
   "metadata": {},
   "outputs": [],
   "source": [
    "#Next, lets Load filenames from extracted spam and ham directories\n",
    "spam_dir = os.path.join(SPAM_PATH,\"spam\")\n",
    "ham_dir = os.path.join(HAM_PATH,\"easy_ham\")\n",
    "spam_filenames = [filename for filename in sorted(os.listdir(spam_dir))]\n",
    "ham_filenames = [filename for filename in sorted(os.listdir(ham_dir))]"
   ]
  },
  {
   "cell_type": "code",
   "execution_count": 64,
   "id": "b7cbca56",
   "metadata": {},
   "outputs": [
    {
     "name": "stdout",
     "output_type": "stream",
     "text": [
      "501\n",
      "2501\n"
     ]
    }
   ],
   "source": [
    "print(len(spam_filenames))\n",
    "print(len(ham_filenames))"
   ]
  },
  {
   "cell_type": "code",
   "execution_count": null,
   "id": "7ea89456",
   "metadata": {},
   "outputs": [],
   "source": [
    "#Now, lets prepare functions to load raw emails into Python objects\n",
    "import email as e\n",
    "import email.policy as ep\n",
    "def load_email(is_spam,filename,spam_path = SPAM_PATH,ham_path = HAM_PATH ):\n",
    "    if is_spam:\n",
    "        directory = \"spam\"\n",
    "        with open(os.path.join(spam_path,directory,filename),\"rb\") as f:\n",
    "            return e.parser.BytesParser(policy = ep.default).parse(f)\n",
    "    else:\n",
    "        directory = \"easy_ham\"\n",
    "        with open(os.path.join(ham_path,directory,filename),\"rb\") as f:\n",
    "            return e.parser.BytesParser(policy = ep.default).parse(f)"
   ]
  },
  {
   "cell_type": "code",
   "execution_count": 66,
   "id": "2cebfe24",
   "metadata": {},
   "outputs": [],
   "source": [
    "ham_emails = [load_email(is_spam=False,filename=name) for name in ham_filenames]\n",
    "spam_emails = [load_email(is_spam=True,filename=name) for name in spam_filenames]\n"
   ]
  },
  {
   "cell_type": "code",
   "execution_count": null,
   "id": "9345cc44",
   "metadata": {},
   "outputs": [
    {
     "name": "stdout",
     "output_type": "stream",
     "text": [
      "Martin A posted:\n",
      "Tassos Papadopoulos, the Greek sculptor behind the plan, judged that the\n",
      " limestone of Mount Kerdylio, 70 miles east of Salonika and not far from the\n",
      " Mount Athos monastic community, was ideal for the patriotic sculpture. \n",
      " \n",
      " As well as Alexander's granite features, 240 ft high and 170 ft wide, a\n",
      " museum, a restored amphitheatre and car park for admiring crowds are\n",
      "planned\n",
      "---------------------\n",
      "So is this mountain limestone or granite?\n",
      "If it's limestone, it'll weather pretty fast.\n",
      "\n",
      "------------------------ Yahoo! Groups Sponsor ---------------------~-->\n",
      "4 DVDs Free +s&p Join Now\n",
      "http://us.click.yahoo.com/pt6YBB/NXiEAA/mG3HAA/7gSolB/TM\n",
      "---------------------------------------------------------------------~->\n",
      "\n",
      "To unsubscribe from this group, send an email to:\n",
      "forteana-unsubscribe@egroups.com\n",
      "\n",
      " \n",
      "\n",
      "Your use of Yahoo! Groups is subject to http://docs.yahoo.com/info/terms/\n"
     ]
    }
   ],
   "source": [
    "# Prepare functions to load raw emails into Python objects\n",
    "print(ham_emails[1].get_content().strip())"
   ]
  },
  {
   "cell_type": "code",
   "execution_count": null,
   "id": "8e44c0cd",
   "metadata": {},
   "outputs": [
    {
     "name": "stdout",
     "output_type": "stream",
     "text": [
      "Help wanted.  We are a 14 year old fortune 500 company, that is\n",
      "growing at a tremendous rate.  We are looking for individuals who\n",
      "want to work from home.\n",
      "\n",
      "This is an opportunity to make an excellent income.  No experience\n",
      "is required.  We will train you.\n",
      "\n",
      "So if you are looking to be employed from home with a career that has\n",
      "vast opportunities, then go:\n",
      "\n",
      "http://www.basetel.com/wealthnow\n",
      "\n",
      "We are looking for energetic and self motivated people.  If that is you\n",
      "than click on the link and fill out the form, and one of our\n",
      "employement specialist will contact you.\n",
      "\n",
      "To be removed from our link simple go to:\n",
      "\n",
      "http://www.basetel.com/remove.html\n",
      "\n",
      "\n",
      "4139vOLW7-758DoDY1425FRhM1-764SMFc8513fCsLl40\n"
     ]
    }
   ],
   "source": [
    "print(spam_emails[6].get_content().strip())"
   ]
  },
  {
   "cell_type": "code",
   "execution_count": null,
   "id": "b662e679",
   "metadata": {},
   "outputs": [],
   "source": [
    "#Some emails are actually multipart, with images and attachments (which can have their own attachments). Let's look at the various types of structures we have:\n",
    "def get_email_structure(email):\n",
    "    if isinstance(email, str):\n",
    "        return email\n",
    "    payload = email.get_payload()\n",
    "    if isinstance(payload, list):\n",
    "        return \"multipart({})\".format(\", \".join([\n",
    "            get_email_structure(sub_email)\n",
    "            for sub_email in payload\n",
    "        ]))\n",
    "    else:\n",
    "        return email.get_content_type()"
   ]
  },
  {
   "cell_type": "code",
   "execution_count": 70,
   "id": "6293fb27",
   "metadata": {},
   "outputs": [],
   "source": [
    "from collections import Counter\n",
    "\n",
    "def structures_counter(emails):\n",
    "    structures = Counter()\n",
    "    for email in emails:\n",
    "        structure = get_email_structure(email)\n",
    "        structures[structure] += 1\n",
    "    return structures"
   ]
  },
  {
   "cell_type": "code",
   "execution_count": 71,
   "id": "5e9251e9",
   "metadata": {},
   "outputs": [
    {
     "data": {
      "text/plain": [
       "[('text/plain', 2409),\n",
       " ('multipart(text/plain, application/pgp-signature)', 66),\n",
       " ('multipart(text/plain, text/html)', 8),\n",
       " ('multipart(text/plain, text/plain)', 4),\n",
       " ('multipart(text/plain)', 3),\n",
       " ('multipart(text/plain, application/octet-stream)', 2),\n",
       " ('multipart(text/plain, text/enriched)', 1),\n",
       " ('multipart(text/plain, application/ms-tnef, text/plain)', 1),\n",
       " ('multipart(multipart(text/plain, text/plain, text/plain), application/pgp-signature)',\n",
       "  1),\n",
       " ('multipart(text/plain, video/mng)', 1),\n",
       " ('multipart(text/plain, multipart(text/plain))', 1),\n",
       " ('multipart(text/plain, application/x-pkcs7-signature)', 1),\n",
       " ('multipart(text/plain, multipart(text/plain, text/plain), text/rfc822-headers)',\n",
       "  1),\n",
       " ('multipart(text/plain, multipart(text/plain, text/plain), multipart(multipart(text/plain, application/x-pkcs7-signature)))',\n",
       "  1),\n",
       " ('multipart(text/plain, application/x-java-applet)', 1)]"
      ]
     },
     "execution_count": 71,
     "metadata": {},
     "output_type": "execute_result"
    }
   ],
   "source": [
    "structures_counter(ham_emails).most_common()"
   ]
  },
  {
   "cell_type": "code",
   "execution_count": null,
   "id": "6ce8d67d",
   "metadata": {},
   "outputs": [
    {
     "data": {
      "text/plain": [
       "[('text/plain', 219),\n",
       " ('text/html', 183),\n",
       " ('multipart(text/plain, text/html)', 45),\n",
       " ('multipart(text/html)', 20),\n",
       " ('multipart(text/plain)', 19),\n",
       " ('multipart(multipart(text/html))', 5),\n",
       " ('multipart(text/plain, image/jpeg)', 3),\n",
       " ('multipart(text/html, application/octet-stream)', 2),\n",
       " ('multipart(text/plain, application/octet-stream)', 1),\n",
       " ('multipart(text/html, text/plain)', 1),\n",
       " ('multipart(multipart(text/html), application/octet-stream, image/jpeg)', 1),\n",
       " ('multipart(multipart(text/plain, text/html), image/gif)', 1),\n",
       " ('multipart/alternative', 1)]"
      ]
     },
     "execution_count": 72,
     "metadata": {},
     "output_type": "execute_result"
    }
   ],
   "source": [
    "#It seems that the ham emails are more often plain text, while spam has quite a lot of HTML. Moreover, quite a few ham emails are signed using PGP, while no spam is. In short, it seems that the email structure is useful information to have.\n",
    "structures_counter(spam_emails).most_common()"
   ]
  },
  {
   "cell_type": "code",
   "execution_count": 73,
   "id": "c442473b",
   "metadata": {},
   "outputs": [
    {
     "name": "stdout",
     "output_type": "stream",
     "text": [
      "Return-Path : <12a1mailbot1@web.de>\n",
      "Delivered-To : zzzz@localhost.spamassassin.taint.org\n",
      "Received : from localhost (localhost [127.0.0.1])\tby phobos.labs.spamassassin.taint.org (Postfix) with ESMTP id 136B943C32\tfor <zzzz@localhost>; Thu, 22 Aug 2002 08:17:21 -0400 (EDT)\n",
      "Received : from mail.webnote.net [193.120.211.219]\tby localhost with POP3 (fetchmail-5.9.0)\tfor zzzz@localhost (single-drop); Thu, 22 Aug 2002 13:17:21 +0100 (IST)\n",
      "Received : from dd_it7 ([210.97.77.167])\tby webnote.net (8.9.3/8.9.3) with ESMTP id NAA04623\tfor <zzzz@spamassassin.taint.org>; Thu, 22 Aug 2002 13:09:41 +0100\n",
      "From : 12a1mailbot1@web.de\n",
      "Received : from r-smtp.korea.com - 203.122.2.197 by dd_it7  with Microsoft SMTPSVC(5.5.1775.675.6);\t Sat, 24 Aug 2002 09:42:10 +0900\n",
      "To : dcek1a1@netsgo.com\n",
      "Subject : Life Insurance - Why Pay More?\n",
      "Date : Wed, 21 Aug 2002 20:31:57 -1600\n",
      "MIME-Version : 1.0\n",
      "Message-ID : <0103c1042001882DD_IT7@dd_it7>\n",
      "Content-Type : text/html; charset=\"iso-8859-1\"\n",
      "Content-Transfer-Encoding : quoted-printable\n"
     ]
    }
   ],
   "source": [
    "for header, value in spam_emails[0].items():\n",
    "    print(header,\":\",value)"
   ]
  },
  {
   "cell_type": "code",
   "execution_count": null,
   "id": "a3071895",
   "metadata": {},
   "outputs": [],
   "source": [
    "#okay now we are ready to split it into a training set and a test set:\n",
    "import numpy as np\n",
    "from sklearn.model_selection import train_test_split\n",
    "X = np.array(ham_emails+spam_emails,dtype = object)\n",
    "y = np.array([0]*len(ham_emails)+[1]*len(spam_emails))\n",
    "\n",
    "x_train,x_test,y_train,y_test = train_test_split(X,y,test_size=0.2,random_state=42)"
   ]
  },
  {
   "cell_type": "code",
   "execution_count": null,
   "id": "4849d482",
   "metadata": {},
   "outputs": [],
   "source": [
    "#Okay, let's start writing the preprocessing functions. First, we will need a function to convert HTML to plain text. Arguably the best way to do this would be to use the great BeautifulSoup library\n",
    "# The following function first drops the <head> section, then converts all <a> tags to the word HYPERLINK, then it gets rid of all HTML tags, leaving only the plain text. For readability, it also replaces multiple newlines with single newlines, and finally it unescapes html entities (such as &gt; or &nbsp;)\n",
    "from bs4 import BeautifulSoup\n",
    "import re\n",
    "from html import unescape\n",
    "def html_to_text(html: str)->str:\n",
    "    soup = BeautifulSoup(html,\"html.parser\")\n",
    "    if soup.head:\n",
    "        soup.head.decompose()\n",
    "\n",
    "    for a in soup.find_all(\"a\"):\n",
    "        a.replace_with(\" HYPERLINK\")\n",
    "\n",
    "    text = soup.get_text(separator=\" \")\n",
    "    text = re.sub(r'(\\s*\\n)+', \"\\n\", text, flags=re.M)\n"
   ]
  },
  {
   "cell_type": "code",
   "execution_count": null,
   "id": "05dda678",
   "metadata": {},
   "outputs": [],
   "source": [
    "#Great! Now let's write a function that takes an email as input and returns its content as plain text, whatever its format is:\n",
    "def email_to_text(email):\n",
    "    html = None\n",
    "    for part in email.walk():\n",
    "        ctype = part.get_content_type()\n",
    "        if ctype not in (\"text/plain\",\"text/html\"):\n",
    "            continue\n",
    "        try:\n",
    "            content = part.get_content()\n",
    "        except:\n",
    "            content = str(part.get_payload())\n",
    "        if ctype == \"text/plain\":\n",
    "            return content\n",
    "        else:\n",
    "            html = content\n",
    "    if html:\n",
    "        return html_to_text(html)"
   ]
  },
  {
   "cell_type": "code",
   "execution_count": null,
   "id": "1da43a7f",
   "metadata": {},
   "outputs": [],
   "source": [
    "#now we create a custom transformer to convert emails to word count dictionaries\n",
    "\n",
    "from sklearn.base import BaseEstimator, TransformerMixin\n",
    "import urlextract\n",
    "import re\n",
    "from nltk.stem import PorterStemmer\n",
    "from collections import Counter\n",
    "url_extractor = urlextract.URLExtract()\n",
    "stemmer = PorterStemmer()\n",
    "\n",
    "class emailToWordCountTransformer(BaseEstimator,TransformerMixin):\n",
    "    def __init__(self,strip_headers=True,lower_case=True,remove_punctuation=True,replace_url=True,replace_numbers=True,stemming=True):\n",
    "        self.strip_headers=strip_headers\n",
    "        self.lower_case=lower_case\n",
    "        self.remove_punctuation=remove_punctuation\n",
    "        self.replace_url=replace_url\n",
    "        self.replace_numbers=replace_numbers\n",
    "        self.stemming=stemming\n",
    "    def fit(self,X,y=None):\n",
    "        return self\n",
    "    def transform(self,X,y=None):\n",
    "        x_transformed = []\n",
    "        for email in X:\n",
    "            text = email_to_text(email) or \"\"\n",
    "            if self.lower_case:\n",
    "                text = text.lower()\n",
    "            if self.replace_url and url_extractor is not None:\n",
    "                urls = list(url_extractor.find_urls(text))\n",
    "                for url in urls:\n",
    "                    text = text.replace(url,\"URL\")\n",
    "            if self.replace_numbers:\n",
    "                text = re.sub(r'\\d+(?:\\.\\d*)?(?:[eE][+-]?\\d+)?', 'NUMBER', text)\n",
    "            if self.remove_punctuation:\n",
    "                text = re.sub(r'\\W+',' ',text,flags = re.M)\n",
    "            word_counts = Counter(text.split())\n",
    "            if self.stemming and stemmer is not None:\n",
    "                stemmed_word_counts = Counter()\n",
    "                for word, count in word_counts.items():\n",
    "                    stemmed_word = stemmer.stem(word)\n",
    "                    stemmed_word_counts[stemmed_word] += count\n",
    "                word_counts = stemmed_word_counts\n",
    "            x_transformed.append(word_counts)\n",
    "        return np.array(x_transformed)\n",
    "            "
   ]
  },
  {
   "cell_type": "code",
   "execution_count": null,
   "id": "137bf2a3",
   "metadata": {},
   "outputs": [],
   "source": [
    "#Now we have the word counts, and we need to convert them to vectors. For this, we will build another custom transformer to convert word counts into sparse feature vectors\n",
    "from scipy.sparse import csr_matrix\n",
    "from collections import Counter\n",
    "class wordToVectorTransformer(TransformerMixin,BaseEstimator):\n",
    "    def __init__(self,vocabulary_size = 10000):\n",
    "        self.vocabulary_size = vocabulary_size\n",
    "    def fit(self,X,y=None):\n",
    "        word_counter = Counter()\n",
    "        for word_count in X:\n",
    "            for word,count in word_count.items():\n",
    "                word_counter[word] += min(count,10)\n",
    "        most_common = word_counter.most_common()[:self.vocabulary_size]\n",
    "        self.vocabulary_ = {word:index+1 for index,(word,count) in enumerate(most_common)}\n",
    "        return self\n",
    "    def transform(self,X,y=None):\n",
    "        rows = []\n",
    "        cols = []\n",
    "        data = []\n",
    "        for row,word_count in enumerate(X):\n",
    "            for word,count in word_count.items():\n",
    "                rows.append(row)\n",
    "                cols.append(self.vocabulary_.get(word,0))\n",
    "                data.append(count)\n",
    "        return csr_matrix((data,(rows,cols)),shape = (len(X), self.vocabulary_size+1))"
   ]
  },
  {
   "cell_type": "code",
   "execution_count": null,
   "id": "5b593990",
   "metadata": {},
   "outputs": [],
   "source": [
    "#Build a full preprocessing pipeline\n",
    "from sklearn.pipeline import Pipeline\n",
    "\n",
    "preprocess_pipeline = Pipeline([\n",
    "    (\"email_to_wordcount\", emailToWordCountTransformer()),\n",
    "    (\"wordcount_to_vector\", wordToVectorTransformer()),\n",
    "])\n",
    "\n",
    "X_train_transformed = preprocess_pipeline.fit_transform(x_train)"
   ]
  },
  {
   "cell_type": "code",
   "execution_count": null,
   "id": "c2a1b711",
   "metadata": {},
   "outputs": [
    {
     "name": "stdout",
     "output_type": "stream",
     "text": [
      "[CV] END ................................ score: (test=0.975) total time=   0.1s\n",
      "[CV] END ................................ score: (test=0.965) total time=   0.2s\n",
      "[CV] END ................................ score: (test=0.979) total time=   0.2s\n"
     ]
    },
    {
     "data": {
      "text/plain": [
       "np.float64(0.9729270703287557)"
      ]
     },
     "execution_count": 81,
     "metadata": {},
     "output_type": "execute_result"
    }
   ],
   "source": [
    "#Select and train a classification model (Logistic Regression)\n",
    "from sklearn.linear_model import LogisticRegression\n",
    "from sklearn.model_selection import cross_val_score\n",
    "\n",
    "log_clf = LogisticRegression(solver=\"lbfgs\", max_iter=1000, random_state=42)\n",
    "score = cross_val_score(log_clf, X_train_transformed, y_train, cv=3, verbose=3)\n",
    "score.mean()"
   ]
  },
  {
   "cell_type": "code",
   "execution_count": 82,
   "id": "81c1aead",
   "metadata": {},
   "outputs": [
    {
     "name": "stdout",
     "output_type": "stream",
     "text": [
      "Precision: 91.82%\n",
      "Recall: 97.12%\n"
     ]
    }
   ],
   "source": [
    "from sklearn.metrics import precision_score, recall_score\n",
    "\n",
    "X_test_transformed = preprocess_pipeline.transform(x_test)\n",
    "\n",
    "log_clf = LogisticRegression(solver=\"lbfgs\", max_iter=1000, random_state=42)\n",
    "log_clf.fit(X_train_transformed, y_train)\n",
    "\n",
    "y_pred = log_clf.predict(X_test_transformed)\n",
    "\n",
    "print(\"Precision: {:.2f}%\".format(100 * precision_score(y_test, y_pred)))\n",
    "print(\"Recall: {:.2f}%\".format(100 * recall_score(y_test, y_pred)))"
   ]
  }
 ],
 "metadata": {
  "kernelspec": {
   "display_name": "Python 3",
   "language": "python",
   "name": "python3"
  },
  "language_info": {
   "codemirror_mode": {
    "name": "ipython",
    "version": 3
   },
   "file_extension": ".py",
   "mimetype": "text/x-python",
   "name": "python",
   "nbconvert_exporter": "python",
   "pygments_lexer": "ipython3",
   "version": "3.11.9"
  }
 },
 "nbformat": 4,
 "nbformat_minor": 5
}
